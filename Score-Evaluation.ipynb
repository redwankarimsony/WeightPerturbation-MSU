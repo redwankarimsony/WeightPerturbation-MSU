{
 "cells": [
  {
   "cell_type": "code",
   "execution_count": 32,
   "id": "82ef34a3",
   "metadata": {},
   "outputs": [],
   "source": [
    "import pickle\n",
    "import numpy as np\n",
    "from sklearn.metrics import roc_curve"
   ]
  },
  {
   "cell_type": "code",
   "execution_count": 3,
   "id": "96e71d2d",
   "metadata": {},
   "outputs": [],
   "source": [
    "with open(\"Results/LivDet-Iris-2020/GaussianNoise/DenseNet161GaussianNoise-fusions.pickle\", \"rb\") as f:\n",
    "    cross_match = pickle.load(f)"
   ]
  },
  {
   "cell_type": "code",
   "execution_count": 10,
   "id": "ee31aeeb",
   "metadata": {},
   "outputs": [],
   "source": [
    "k = list(cross_match.keys())[0]"
   ]
  },
  {
   "cell_type": "code",
   "execution_count": 11,
   "id": "eed38e11",
   "metadata": {},
   "outputs": [
    {
     "data": {
      "text/plain": [
       "('Results/LivDet-Iris-2020/GaussianNoise/DenseNet161GaussianNoise-0.9168-.pth',\n",
       " 'Results/LivDet-Iris-2020/GaussianNoise/DenseNet161GaussianNoise-0.9137-.pth')"
      ]
     },
     "execution_count": 11,
     "metadata": {},
     "output_type": "execute_result"
    }
   ],
   "source": [
    "k"
   ]
  },
  {
   "cell_type": "code",
   "execution_count": 28,
   "id": "bff500e1",
   "metadata": {},
   "outputs": [
    {
     "name": "stdout",
     "output_type": "stream",
     "text": [
      "[0.9168, 0.909, 0.935361216730038] 1.8561216730038077\n",
      "[0.9168, 0.9194, 0.9328263624841572] 1.3426362484157184\n",
      "[0.9137, 0.903, 0.9183213631882834] 0.4621363188283434\n",
      "[0.9137, 0.9131, 0.9186030136600479] 0.49030136600479723\n",
      "[0.9137, 0.909, 0.9276158287565132] 1.3915828756513204\n",
      "[0.9137, 0.9194, 0.9257851006900436] 0.638510069004361\n",
      "[0.9137, 0.9114, 0.9173355865371075] 0.36355865371074936\n",
      "[0.9209, 0.909, 0.9257851006900436] 0.48851006900435534\n",
      "[0.9209, 0.9203, 0.9215603436135755] 0.06603436135754759\n",
      "[0.903, 0.909, 0.9143782565835797] 0.537825658357971\n",
      "[0.903, 0.9066, 0.9119842275735812] 0.5384227573581257\n",
      "[0.903, 0.9194, 0.9198704407829883] 0.04704407829883017\n",
      "[0.903, 0.9203, 0.921278693141811] 0.09786931418109823\n",
      "[0.903, 0.9114, 0.9270525278129841] 1.5652527812984096\n",
      "[0.9131, 0.909, 0.9324038867765103] 1.9303886776510293\n",
      "[0.9131, 0.9194, 0.9201520912547528] 0.07520912547528402\n",
      "[0.9131, 0.9114, 0.9229685959723982] 0.9868595972398198\n",
      "[0.909, 0.9066, 0.9157865089424024] 0.6786508942402403\n",
      "[0.909, 0.9194, 0.9273341782847486] 0.7934178284748628\n",
      "[0.909, 0.9203, 0.9336713138994508] 1.3371313899450787\n",
      "[0.909, 0.9114, 0.9343754400788621] 2.2975440078862097\n",
      "[0.9066, 0.9114, 0.9162089846500493] 0.48089846500493083\n",
      "[0.9194, 0.9203, 0.9322630615406281] 1.1963061540628095\n",
      "[0.9194, 0.9114, 0.9267708773412195] 0.737087734121955\n"
     ]
    }
   ],
   "source": [
    "for k in cross_match.keys():\n",
    "    [testImgNames, predictScore, testTrueLabels, (fprs, tprs, thresholds)] = cross_match[k]\n",
    "    if k[1].endswith(\"0.9090.pth\"):\n",
    "        result = [float(k[0].split(\"-\")[-2]), \n",
    "                  float(k[1].split(\"-\")[-1].replace(\".pth\", \" \")), \n",
    "                  float(np.interp(0.002, fprs, tprs))]\n",
    "    elif k[0].endswith(\"0.9090.pth\"):\n",
    "        result = [float(k[0].split(\"-\")[-1].replace(\".pth\", \" \")), \n",
    "                  float(k[1].split(\"-\")[-2]), \n",
    "                  float(np.interp(0.002, fprs, tprs))]\n",
    "    else:\n",
    "        result = [float(k[0].split(\"-\")[-2]), \n",
    "                  float(k[1].split(\"-\")[-2]), \n",
    "                  float(np.interp(0.002, fprs, tprs))]\n",
    "    if result[2] > result[1] and result[2] > result[0]:\n",
    "        print(result, (result[2] - max([result[0], result[1]]))*100)"
   ]
  },
  {
   "cell_type": "code",
   "execution_count": 38,
   "id": "9070dd0d",
   "metadata": {},
   "outputs": [],
   "source": [
    "with open(\"Results/LivDet-Iris-2020/GaussianNoise/9114-original.pkl\", \"rb\") as f:\n",
    "    [testTrueLabels1, predictScore1] = pickle.load(f)\n",
    "    \n",
    "with open(\"Results/LivDet-Iris-2020/GaussianNoise/9090-original.pkl\", \"rb\") as f:\n",
    "    [testTrueLabels2, predictScore2] = pickle.load(f)"
   ]
  },
  {
   "cell_type": "code",
   "execution_count": 39,
   "id": "23b7bf81",
   "metadata": {},
   "outputs": [
    {
     "data": {
      "text/plain": [
       "0.9126883537529925"
      ]
     },
     "execution_count": 39,
     "metadata": {},
     "output_type": "execute_result"
    }
   ],
   "source": [
    "(fprs, tprs, thresholds) = roc_curve(testTrueLabels1, (predictScore1+predictScore2)/2)\n",
    "TDR = np.interp(0.002, fprs, tprs)\n",
    "TDR"
   ]
  },
  {
   "cell_type": "code",
   "execution_count": null,
   "id": "5cc542d9",
   "metadata": {},
   "outputs": [],
   "source": []
  }
 ],
 "metadata": {
  "kernelspec": {
   "display_name": "Python 3 (ipykernel)",
   "language": "python",
   "name": "python3"
  },
  "language_info": {
   "codemirror_mode": {
    "name": "ipython",
    "version": 3
   },
   "file_extension": ".py",
   "mimetype": "text/x-python",
   "name": "python",
   "nbconvert_exporter": "python",
   "pygments_lexer": "ipython3",
   "version": "3.8.13"
  }
 },
 "nbformat": 4,
 "nbformat_minor": 5
}
