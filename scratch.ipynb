{
 "cells": [
  {
   "cell_type": "code",
   "execution_count": null,
   "metadata": {},
   "outputs": [],
   "source": [
    "import os\n",
    "import numpy as np\n",
    "import pandas as pd\n",
    "import matplotlib.pyplot as plt\n",
    "\n",
    "df = pd.read_csv(\"./Results/LivDet-Iris-2020/GaussianNoise/summary_sorted.csv\")\n",
    "df.head()\n",
    "\n",
    "\n"
   ]
  },
  {
   "cell_type": "code",
   "execution_count": null,
   "metadata": {},
   "outputs": [],
   "source": [
    "true = df[\"ScoreFusion\"] < df[\"KernelFusion\"].values\n",
    "print(true.mean())"
   ]
  },
  {
   "cell_type": "code",
   "execution_count": null,
   "metadata": {},
   "outputs": [],
   "source": [
    "plt.figure(figsize=(10,6))\n",
    "set(df[\"KernelFusion\"].values).plot.hist(bins=20)\n",
    "plt.title(\"Number of models with Scores\")\n",
    "plt.ylabel(\"Number of Models Taken\")\n",
    "plt.xlabel(\"TDR @ 0.002 FMR\")\n",
    "plt.grid()\n",
    "plt.savefig(os.path.join(\"./Results/LivDet-Iris-2020/GaussianNoise/\", \"model_frequency.svg\"))"
   ]
  },
  {
   "cell_type": "markdown",
   "metadata": {},
   "source": [
    "### Managing Combination of Models"
   ]
  },
  {
   "cell_type": "code",
   "execution_count": 4,
   "metadata": {},
   "outputs": [],
   "source": [
    "model = \"ResNet101\"\n",
    "from itertools import  combinations\n",
    "import glob\n",
    "models = glob.glob(f\"Results/LivDet-Iris-2020/GaussianNoise/{model}GaussianNoise-*-.pth\")\n",
    "models = [os.path.split(model)[-1] for model in models]\n",
    "with open(f\"Results/LivDet-Iris-2020/GaussianNoise/summary-{model}.csv\", \"w\") as f:\n",
    "    print('modelA,modelB,modelA-Score,modelB-Score,ScoreFusion,KernelFusion', file=f)\n",
    "    combs = combinations(models, r=2)\n",
    "    idx = 0\n",
    "    data=[]\n",
    "    for comb in combs:\n",
    "        print(f\"{comb[0]},{comb[1]},{str(comb[0]).split('-')[-2]},{str(comb[1]).split('-')[-2]},{'-'},{'-'}\", file=f)"
   ]
  },
  {
   "cell_type": "code",
   "execution_count": 3,
   "metadata": {},
   "outputs": [],
   "source": [
    "import pickle\n",
    "\n",
    "with open(f\"/home/sonymd/Desktop/WeightPerturbation-MSU/Results/LivDet-Iris-2020/LivDet-Iris-2020/predictions-{model}.pkl\", \"wb\") as f:\n",
    "    pickle.dump({}, f)"
   ]
  },
  {
   "cell_type": "code",
   "execution_count": 5,
   "metadata": {},
   "outputs": [],
   "source": [
    "\n"
   ]
  },
  {
   "cell_type": "code",
   "execution_count": 27,
   "metadata": {},
   "outputs": [
    {
     "data": {
      "text/plain": [
       "0.3473684210526316"
      ]
     },
     "execution_count": 27,
     "metadata": {},
     "output_type": "execute_result"
    }
   ],
   "source": [
    "import pandas as pd\n",
    "summaryFile = \"Results/LivDet-Iris-2020/GaussianNoise/summary-VGG19.csv\"\n",
    "df = pd.read_csv(summaryFile)\n",
    "\n",
    "(df['ScoreFusion']< df[\"KernelFusion\"]).mean()\n"
   ]
  },
  {
   "cell_type": "code",
   "execution_count": 28,
   "metadata": {},
   "outputs": [
    {
     "data": {
      "text/html": [
       "<div>\n",
       "<style scoped>\n",
       "    .dataframe tbody tr th:only-of-type {\n",
       "        vertical-align: middle;\n",
       "    }\n",
       "\n",
       "    .dataframe tbody tr th {\n",
       "        vertical-align: top;\n",
       "    }\n",
       "\n",
       "    .dataframe thead th {\n",
       "        text-align: right;\n",
       "    }\n",
       "</style>\n",
       "<table border=\"1\" class=\"dataframe\">\n",
       "  <thead>\n",
       "    <tr style=\"text-align: right;\">\n",
       "      <th></th>\n",
       "      <th>modelA</th>\n",
       "      <th>modelB</th>\n",
       "      <th>modelA-Score</th>\n",
       "      <th>modelB-Score</th>\n",
       "      <th>ScoreFusion</th>\n",
       "      <th>KernelFusion</th>\n",
       "    </tr>\n",
       "  </thead>\n",
       "  <tbody>\n",
       "    <tr>\n",
       "      <th>45</th>\n",
       "      <td>VGG19GaussianNoise-0.8856-.pth</td>\n",
       "      <td>VGG19GaussianNoise-0.9031-.pth</td>\n",
       "      <td>0.8856</td>\n",
       "      <td>0.9031</td>\n",
       "      <td>0.901422</td>\n",
       "      <td>0.900014</td>\n",
       "    </tr>\n",
       "  </tbody>\n",
       "</table>\n",
       "</div>"
      ],
      "text/plain": [
       "                            modelA                          modelB  \\\n",
       "45  VGG19GaussianNoise-0.8856-.pth  VGG19GaussianNoise-0.9031-.pth   \n",
       "\n",
       "    modelA-Score  modelB-Score  ScoreFusion  KernelFusion  \n",
       "45        0.8856        0.9031     0.901422      0.900014  "
      ]
     },
     "execution_count": 28,
     "metadata": {},
     "output_type": "execute_result"
    }
   ],
   "source": [
    "df[df[\"KernelFusion\"]==df[\"KernelFusion\"].max()]\n"
   ]
  },
  {
   "cell_type": "code",
   "execution_count": 29,
   "metadata": {},
   "outputs": [
    {
     "data": {
      "text/html": [
       "<div>\n",
       "<style scoped>\n",
       "    .dataframe tbody tr th:only-of-type {\n",
       "        vertical-align: middle;\n",
       "    }\n",
       "\n",
       "    .dataframe tbody tr th {\n",
       "        vertical-align: top;\n",
       "    }\n",
       "\n",
       "    .dataframe thead th {\n",
       "        text-align: right;\n",
       "    }\n",
       "</style>\n",
       "<table border=\"1\" class=\"dataframe\">\n",
       "  <thead>\n",
       "    <tr style=\"text-align: right;\">\n",
       "      <th></th>\n",
       "      <th>modelA</th>\n",
       "      <th>modelB</th>\n",
       "      <th>modelA-Score</th>\n",
       "      <th>modelB-Score</th>\n",
       "      <th>ScoreFusion</th>\n",
       "      <th>KernelFusion</th>\n",
       "    </tr>\n",
       "  </thead>\n",
       "  <tbody>\n",
       "    <tr>\n",
       "      <th>45</th>\n",
       "      <td>VGG19GaussianNoise-0.8856-.pth</td>\n",
       "      <td>VGG19GaussianNoise-0.9031-.pth</td>\n",
       "      <td>0.8856</td>\n",
       "      <td>0.9031</td>\n",
       "      <td>0.901422</td>\n",
       "      <td>0.900014</td>\n",
       "    </tr>\n",
       "  </tbody>\n",
       "</table>\n",
       "</div>"
      ],
      "text/plain": [
       "                            modelA                          modelB  \\\n",
       "45  VGG19GaussianNoise-0.8856-.pth  VGG19GaussianNoise-0.9031-.pth   \n",
       "\n",
       "    modelA-Score  modelB-Score  ScoreFusion  KernelFusion  \n",
       "45        0.8856        0.9031     0.901422      0.900014  "
      ]
     },
     "execution_count": 29,
     "metadata": {},
     "output_type": "execute_result"
    }
   ],
   "source": [
    "df[df[\"ScoreFusion\"]==df[\"ScoreFusion\"].max()]"
   ]
  },
  {
   "cell_type": "code",
   "execution_count": 23,
   "metadata": {},
   "outputs": [
    {
     "data": {
      "text/plain": [
       "0.9476"
      ]
     },
     "execution_count": 23,
     "metadata": {},
     "output_type": "execute_result"
    }
   ],
   "source": [
    "df[\"modelB-Score\"].max()"
   ]
  },
  {
   "cell_type": "code",
   "execution_count": null,
   "metadata": {},
   "outputs": [],
   "source": []
  }
 ],
 "metadata": {
  "kernelspec": {
   "display_name": "Python 3.8.13 ('perturbation')",
   "language": "python",
   "name": "python3"
  },
  "language_info": {
   "codemirror_mode": {
    "name": "ipython",
    "version": 3
   },
   "file_extension": ".py",
   "mimetype": "text/x-python",
   "name": "python",
   "nbconvert_exporter": "python",
   "pygments_lexer": "ipython3",
   "version": "3.8.13"
  },
  "orig_nbformat": 4,
  "vscode": {
   "interpreter": {
    "hash": "bd14796dc90505a263c3350d4052f3a6fd6de848ececeb4970062cf23efd02ac"
   }
  }
 },
 "nbformat": 4,
 "nbformat_minor": 2
}
